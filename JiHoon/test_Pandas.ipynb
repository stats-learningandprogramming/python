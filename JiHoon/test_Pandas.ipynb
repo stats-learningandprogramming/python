{
 "cells": [
  {
   "cell_type": "markdown",
   "id": "ff94dc26",
   "metadata": {},
   "source": [
    "# Data analysis\n",
    "<b>Last updated : 15th August 2021</b>"
   ]
  },
  {
   "cell_type": "markdown",
   "id": "caa6ed3e",
   "metadata": {},
   "source": [
    "## <a href = \"https://pandas.pydata.org/\">About Pandas</a>"
   ]
  },
  {
   "cell_type": "markdown",
   "id": "9cd391e2",
   "metadata": {},
   "source": [
    "<b>Pandas</b> aims to be the fundamental high-level building block for doing practical, real world data analysis in Python. Additionally, it has the broader goal of becoming the most powerful and flexible open source data analysis / manipulation tool available in any language. <br>\n",
    "Pandas is an open source, BSD-licensed library providing high-performance, easy-to-use data structures and data analysis tools for the Python programming language."
   ]
  },
  {
   "cell_type": "markdown",
   "id": "5c3ae9d9",
   "metadata": {},
   "source": [
    "### History of development"
   ]
  },
  {
   "cell_type": "markdown",
   "id": "c3367936",
   "metadata": {},
   "source": [
    "In 2008, pandas development began at AQR Capital Management. Since 2015, pandas is a NumFOCUS sponsored project. This will help ensure the success of development of pandas as a world-class open-source project.\n",
    "#### Timeline\n",
    "- <b>2008</b>: Development of <i>pandas</i> started\n",
    "- <b>2009</b>: <i>pandas</i> becomes open source\n",
    "- <b>2012</b>: First eidition of <i>Python for Data Analysis</i> is published\n",
    "- <b>2015</b>: <i>pandas</i> becomes NumFOCUS sponsered project\n",
    "- <b>2018</b>: First in-person core developer sprint"
   ]
  },
  {
   "cell_type": "markdown",
   "id": "8f14184c",
   "metadata": {},
   "source": [
    "### <a href = \"https://pandas.pydata.org/docs/getting_started/overview.html\">Library Highlights</a>"
   ]
  },
  {
   "cell_type": "markdown",
   "id": "44ecdd1c",
   "metadata": {},
   "source": [
    "- A fast and efficient <b>DataFrame</b> object for data manipulation with integrated indexing;\n",
    "- Tools for <b>reading and writing data</b> between in-memory data structures and different formats: CSV and text files, Microsoft Excel, SQL databases, and the fast HDF5 format;\n",
    "- Intelligent <b>data alignment</b> and integrated handling of <b>missing data</b>: gain automatic label-based alignment in computations and easily manipulate messy data into an orderly form;\n",
    "- Flexible <b>reshaping</b> and pivoting of data sets;\n",
    "- Intelligent label-based <b>slicing</b>, <b>fancy indexing</b>, and <b>subsetting</b> of large data sets;\n",
    "- Columns can be inserted and deleted from data structures for <b>size mutability</b>;\n",
    "- Aggregating or transforming data with a powerful <b>group by</b> engine allowing split-apply-combine operations on data sets;\n",
    "- High performance <b>merging and joining</b> of data sets;\n",
    "- <b>Hierarchical axis indexing</b> provides an intuitive way of working with high-dimensional data in a lower-dimensional data structure;\n",
    "- <b>Time series</b>-functionality: date range generation and frequency conversion, moving window statistics, date shifting and lagging. Even create domain-specific time offsets and join time series without losing data;\n",
    "- Highly <b>optimized for performance</b>, with critical code paths written in Cython or C.\n",
    "- Python with pandas is in use in a wide variety of <b>academic and commercial</b> domains, including Finance, Neuroscience, Economics, Statistics, Advertising, Web Analytics, and more."
   ]
  },
  {
   "cell_type": "markdown",
   "id": "2d52a4f5",
   "metadata": {},
   "source": [
    "### <a href = \"https://pandas.pydata.org/docs/getting_started/install.html\">Installation</a>"
   ]
  },
  {
   "cell_type": "code",
   "execution_count": null,
   "id": "606ca985",
   "metadata": {},
   "outputs": [],
   "source": [
    "# Pandas can be installed in a couple of ways, depending on purpose.\n",
    "# # Using pip\n",
    "# $ pip install pandas\n",
    "\n",
    "# # Or using conda\n",
    "# $ conda install pandas\n",
    "# $ conda install pandas=0.20.3  # To install a specific pandas version\n",
    "\n",
    "# # Ubuntu\n",
    "# sudo apt-get install python3-pandas\n",
    "\n",
    "# # Centos/RHEL\n",
    "# yum install python3-pandas"
   ]
  },
  {
   "cell_type": "code",
   "execution_count": 2,
   "id": "7e84c882",
   "metadata": {},
   "outputs": [
    {
     "data": {
      "text/plain": [
       "'1.2.4'"
      ]
     },
     "execution_count": 2,
     "metadata": {},
     "output_type": "execute_result"
    }
   ],
   "source": [
    "import pandas\n",
    "pandas.__version__"
   ]
  },
  {
   "cell_type": "markdown",
   "id": "8486c44a",
   "metadata": {},
   "source": [
    "## <a href = \"https://pandas.pydata.org/docs/getting_started/index.html#getting-started\">Getting started</a>\n",
    "New to pandas? Check out the getting started guides. They contain an introduction to pandas’ main concepts and links to additional tutorials.\n"
   ]
  },
  {
   "cell_type": "markdown",
   "id": "729ef187",
   "metadata": {},
   "source": [
    "### Data structures\n",
    "Dimensions, Name, Description <br>\n",
    "1, Series, 1D labeled homogeneously-typed aaray <br>\n",
    "2, DataFrame, General 2D labeled, size-mutable tabular structure with potentially heterogeneously-typed column"
   ]
  },
  {
   "cell_type": "code",
   "execution_count": null,
   "id": "b1921681",
   "metadata": {},
   "outputs": [],
   "source": [
    "for col in df.columns:\n",
    "    series = df[col]\n",
    "    # do something with series"
   ]
  },
  {
   "cell_type": "markdown",
   "id": "18a7d4e6",
   "metadata": {},
   "source": [
    "### <a href = \"https://pandas.pydata.org/docs/getting_started/intro_tutorials/index.html\">Getting started tutorials</a>\n",
    "- <a href = \"https://pandas.pydata.org/docs/getting_started/intro_tutorials/01_table_oriented.html\">What kind of data does pandas handle?</a>\n",
    "- <a href = \"https://pandas.pydata.org/docs/getting_started/intro_tutorials/02_read_write.html\">How do I read asnd write tabular data?</a>\n",
    "- <a href = \"https://pandas.pydata.org/docs/getting_started/intro_tutorials/03_subset_data.html\">How do I select a subset of a <b>DataFrame</b></a>\n",
    "- <a href = \"https://pandas.pydata.org/docs/getting_started/intro_tutorials/04_plotting.html\">How to create plots in pandas?</a>\n",
    "- <a href = \"https://pandas.pydata.org/docs/getting_started/intro_tutorials/05_add_columns.html\">How to create new columns derived from existing columns?</a>\n",
    "- <a href = \"https://pandas.pydata.org/docs/getting_started/intro_tutorials/06_calculate_statistics.html\">How to calculate summary statistics?</a>\n",
    "- <a href = \"https://pandas.pydata.org/docs/getting_started/intro_tutorials/07_reshape_table_layout.html\">How to reshape the layout of tables?</a>\n",
    "- <a href = \"https://pandas.pydata.org/docs/getting_started/intro_tutorials/08_combine_dataframes.html\">How to combine data from multiple tables?</a>\n",
    "- <a href = \"https://pandas.pydata.org/docs/getting_started/intro_tutorials/09_timeseries.html\">How to handle time series data with ease?</a>\n",
    "- <a href = \"https://pandas.pydata.org/docs/getting_started/intro_tutorials/10_text_data.html\">How to manipulate textual data?</a>"
   ]
  },
  {
   "cell_type": "markdown",
   "id": "1f01f2e2",
   "metadata": {},
   "source": [
    "## <a href = \"https://pandas.pydata.org/docs/user_guide/index.html#user-guide\">User guide</a>\n",
    "The user guide provides in-depth information on the key concepts of pandas with useful background information and explanation.\n",
    "- <a href = \"https://pandas.pydata.org/docs/user_guide/10min.html\">10 minutes to pandas</a>\n",
    "- <a href = \"https://pandas.pydata.org/docs/user_guide/dsintro.html\">Intro to data structures</a>\n",
    "- <a href = \"https://pandas.pydata.org/docs/user_guide/basics.html\">Essential basic functionality</a>\n",
    "- <a href = \"https://pandas.pydata.org/docs/user_guide/io.html\">IO tools (text, CSV, HDF5, …)</a>\n",
    "- <a href = \"https://pandas.pydata.org/docs/user_guide/indexing.html\">Indexing and selecting data</a>\n",
    "- <a href = \"https://pandas.pydata.org/docs/user_guide/advanced.html\">MultiIndex / advanced indexing</a>\n",
    "- <a href = \"https://pandas.pydata.org/docs/user_guide/merging.html\">Merge, join, concatenate and compare</a>\n",
    "- <a href = \"https://pandas.pydata.org/docs/user_guide/reshaping.html\">Reshaping and pivot tables</a>\n",
    "- <a href = \"https://pandas.pydata.org/docs/user_guide/text.html\">Working with text data</a>\n",
    "- <a href = \"https://pandas.pydata.org/docs/user_guide/missing_data.html\">Working with missing data</a>\n",
    "- <a href = \"https://pandas.pydata.org/docs/user_guide/duplicates.html\">Duplicate Labels</a>\n",
    "- <a href = \"https://pandas.pydata.org/docs/user_guide/categorical.html\">Categorical data</a>\n",
    "- <a href = \"https://pandas.pydata.org/docs/user_guide/integer_na.html\">Nullable integer data type</a>\n",
    "- <a href = \"https://pandas.pydata.org/docs/user_guide/visualization.html\">Chart Visualization</a>\n",
    "- <a href = \"https://pandas.pydata.org/docs/user_guide/style.html\">Table Visualization</a>\n",
    "- <a href = \"https://pandas.pydata.org/docs/user_guide/computation.html\">Computational tools</a>\n",
    "- <a href = \"https://pandas.pydata.org/docs/user_guide/groupby.html\">Group by: split-apply-combine</a>\n",
    "- <a href = \"https://pandas.pydata.org/docs/user_guide/window.html\">Windowing Operations</a>\n",
    "- <a href = \"https://pandas.pydata.org/docs/user_guide/timeseries.html\">Time series / date functionality</a>\n",
    "- <a href = \"https://pandas.pydata.org/docs/user_guide/timedeltas.html\">Time deltas</a>\n",
    "- <a href = \"https://pandas.pydata.org/docs/user_guide/options.html\">Options and settings</a>\n",
    "- <a href = \"https://pandas.pydata.org/docs/user_guide/enhancingperf.html\">Enhancing performance</a>\n",
    "- <a href = \"https://pandas.pydata.org/docs/user_guide/scale.html\">Scaling to large datasets</a>\n",
    "- <a href = \"https://pandas.pydata.org/docs/user_guide/sparse.html\">Sparse data structures</a>\n",
    "- <a href = \"https://pandas.pydata.org/docs/user_guide/gotchas.html\">Frequently Asked Questions (FAQ</a>\n",
    "- <a href = \"https://pandas.pydata.org/docs/user_guide/cookbook.html\">Cookbook</a>"
   ]
  },
  {
   "cell_type": "markdown",
   "id": "42ca93e8",
   "metadata": {},
   "source": [
    "## <a href = \"https://pandas.pydata.org/docs/reference/index.html#api\">API Reference</a>\n",
    "The reference guide contains a detailed description of the pandas API. The reference describes how the methods work and which parameters can be used. It assumes that you have an understanding of the key concepts.\n",
    "- <a href = \"https://pandas.pydata.org/docs/reference/io.html\">Input/output</a>\n",
    "- <a href = \"https://pandas.pydata.org/docs/reference/general_functions.html\">General functions</a>\n",
    "- <a href = \"https://pandas.pydata.org/docs/reference/series.html\">Series</a>\n",
    "- <a href = \"https://pandas.pydata.org/docs/reference/frame.html\">DataFrame</a>\n",
    "- <a href = \"https://pandas.pydata.org/docs/reference/arrays.html\">pandas arrays</a>\n",
    "- <a href = \"https://pandas.pydata.org/docs/reference/indexing.html\">Index objects</a>\n",
    "- <a href = \"https://pandas.pydata.org/docs/reference/offset_frequency.html\">Date offsets</a>\n",
    "- <a href = \"https://pandas.pydata.org/docs/reference/window.html\">Window</a>\n",
    "- <a href = \"https://pandas.pydata.org/docs/reference/groupby.html\">GroupBy</a>\n",
    "- <a href = \"https://pandas.pydata.org/docs/reference/resampling.html\">Resampling</a>\n",
    "- <a href = \"https://pandas.pydata.org/docs/reference/style.html\">Style</a>\n",
    "- <a href = \"https://pandas.pydata.org/docs/reference/plotting.html\">Plotting</a>\n",
    "- <a href = \"https://pandas.pydata.org/docs/reference/general_utility_functions.html\">General utility functions</a>\n",
    "- <a href = \"https://pandas.pydata.org/docs/reference/extensions.html\">Extensions</a>"
   ]
  },
  {
   "cell_type": "markdown",
   "id": "15a54847",
   "metadata": {},
   "source": [
    "## Reference\n",
    "### External Resource\n",
    "- <a href = \"https://pandas.pydata.org/docs/getting_started/tutorials.html\">Community tutorials</a>\n",
    "- <a href = \"https://pandas.pydata.org/docs/getting_started/comparison/index.html\">Comparison with other tools</a>"
   ]
  },
  {
   "cell_type": "markdown",
   "id": "235a43fe",
   "metadata": {},
   "source": [
    "### Link\n",
    "- <a href = \"https://pandas.pydata.org/docs/pandas.pdf\">Pandas documentation</a>\n",
    "- <a href = \"https://www.amazon.com/gp/product/1491957662/ref=as_li_qf_asin_il_tl?ie=UTF8&tag=quantpytho-20&creative=9325&linkCode=as2&creativeASIN=1491957662&linkId=ea8de4253cce96046e8ab0383ac71b33\">Python for Data Analysis: Data Wrangling with Pandas, NumPy, and IPython 2nd Edition</a>\n",
    "- <a href = \"https://pandas.pydata.org/Pandas_Cheat_Sheet.pdf\">Data Wrangling with pandas Cheat Sheet</a>\n",
    "- <a href = \"https://stackoverflow.com/questions/tagged/pandas\">Stackoverflow Pandas</a>\n",
    "- <a href = \"https://github.com/pandas-dev/pandas\">Source Repository</a>"
   ]
  }
 ],
 "metadata": {
  "kernelspec": {
   "display_name": "Python 3",
   "language": "python",
   "name": "python3"
  },
  "language_info": {
   "codemirror_mode": {
    "name": "ipython",
    "version": 3
   },
   "file_extension": ".py",
   "mimetype": "text/x-python",
   "name": "python",
   "nbconvert_exporter": "python",
   "pygments_lexer": "ipython3",
   "version": "3.8.10"
  }
 },
 "nbformat": 4,
 "nbformat_minor": 5
}
