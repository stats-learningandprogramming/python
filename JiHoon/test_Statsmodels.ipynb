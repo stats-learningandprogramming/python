{
 "cells": [
  {
   "cell_type": "markdown",
   "id": "9d76c8bf",
   "metadata": {},
   "source": [
    "# Data analysis\n",
    "<b>Last updated : 15th August 2021</b>"
   ]
  },
  {
   "cell_type": "markdown",
   "id": "4ce2f300",
   "metadata": {},
   "source": [
    "## <a href = \"https://www.statsmodels.org/stable/index.html\">About Statsmodels</a>"
   ]
  },
  {
   "cell_type": "markdown",
   "id": "0fd505fc",
   "metadata": {},
   "source": [
    "<b>Statsmodels</b> is a Python module that provides classes and functions for the estimation of many different statistical models, as well as for conducting statistical tests, and statistical data exploration. An extensive list of result statistics are available for each estimator. The results are tested against existing statistical packages to ensure that they are correct. The package is released under the open source Modified BSD (3-clause) license."
   ]
  },
  {
   "cell_type": "markdown",
   "id": "de9d0715",
   "metadata": {},
   "source": [
    "### Background"
   ]
  },
  {
   "cell_type": "markdown",
   "id": "e392aa26",
   "metadata": {},
   "source": [
    "The <b>models</b> module of <b>scipy.stats</b> was originally written by Jonathan Taylor. For some time it was part of scipy but was later removed. During the Google Summer of Code 2009, <b>statsmodels</b> was corrected, tested, improved and released as a new package. Since then, the statsmodels development team has continued to add new models, plotting tools, and statistical methods."
   ]
  },
  {
   "cell_type": "code",
   "execution_count": null,
   "id": "8d4955cd",
   "metadata": {},
   "outputs": [],
   "source": []
  },
  {
   "cell_type": "code",
   "execution_count": null,
   "id": "8dc3ab43",
   "metadata": {},
   "outputs": [],
   "source": []
  },
  {
   "cell_type": "markdown",
   "id": "f8fdaec4",
   "metadata": {},
   "source": [
    "## <a href = \"https://www.statsmodels.org/stable/user-guide.html\">User Guide</a>"
   ]
  },
  {
   "cell_type": "code",
   "execution_count": null,
   "id": "c05c3b5a",
   "metadata": {},
   "outputs": [],
   "source": []
  },
  {
   "cell_type": "markdown",
   "id": "e4e49f59",
   "metadata": {},
   "source": [
    "## <a href = \"https://www.statsmodels.org/stable/api.html\">API Reference</a>"
   ]
  },
  {
   "cell_type": "code",
   "execution_count": null,
   "id": "98cb58ba",
   "metadata": {},
   "outputs": [],
   "source": []
  },
  {
   "cell_type": "markdown",
   "id": "4b6bc29c",
   "metadata": {},
   "source": [
    "## Reference"
   ]
  },
  {
   "cell_type": "markdown",
   "id": "e1bb5c14",
   "metadata": {},
   "source": [
    "### <a href = \"https://www.statsmodels.org/stable/examples/index.html\">Examples</a>"
   ]
  }
 ],
 "metadata": {
  "kernelspec": {
   "display_name": "Python 3",
   "language": "python",
   "name": "python3"
  },
  "language_info": {
   "codemirror_mode": {
    "name": "ipython",
    "version": 3
   },
   "file_extension": ".py",
   "mimetype": "text/x-python",
   "name": "python",
   "nbconvert_exporter": "python",
   "pygments_lexer": "ipython3",
   "version": "3.8.10"
  }
 },
 "nbformat": 4,
 "nbformat_minor": 5
}
